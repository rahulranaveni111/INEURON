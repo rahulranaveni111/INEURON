{
 "cells": [
  {
   "cell_type": "code",
   "execution_count": 1,
   "metadata": {},
   "outputs": [],
   "source": [
    "#question 1.1"
   ]
  },
  {
   "cell_type": "code",
   "execution_count": 8,
   "metadata": {},
   "outputs": [
    {
     "name": "stdout",
     "output_type": "stream",
     "text": [
      "enter side 'a'3\n",
      "enter side 'b'4\n",
      "enter side 'c'5\n",
      "area of triangle is: 6.0\n"
     ]
    }
   ],
   "source": [
    "def area(s,a,b,c):\n",
    "    p=(s*(s-a)*(s-b)*(s-c)) ** 0.5\n",
    "    print(\"area of triangle is:\",p)\n",
    "def triangle():\n",
    "    a=int(input(\"enter side 'a'\"))\n",
    "    b=int(input(\"enter side 'b'\"))\n",
    "    c=int(input(\"enter side 'c'\"))\n",
    "    s=(a+b+c)/2\n",
    "    area(s,a,b,c)\n",
    "triangle()"
   ]
  },
  {
   "cell_type": "code",
   "execution_count": null,
   "metadata": {},
   "outputs": [],
   "source": [
    "#question 1.2"
   ]
  },
  {
   "cell_type": "code",
   "execution_count": 10,
   "metadata": {},
   "outputs": [
    {
     "name": "stdout",
     "output_type": "stream",
     "text": [
      "enter n3\n",
      "abc edfg fjdsij h kjdoisdj ksk hg ksisj \n",
      "edfg\n",
      "fjdsij\n",
      "kjdoisdj\n",
      "ksisj\n"
     ]
    }
   ],
   "source": [
    "def filter_long_words():\n",
    "    n=int(input('enter n'))\n",
    "    l=input().split(\" \")\n",
    "    for i in l:\n",
    "        if len(i)>n:\n",
    "            print(i)\n",
    "filter_long_words()"
   ]
  },
  {
   "cell_type": "code",
   "execution_count": 11,
   "metadata": {},
   "outputs": [],
   "source": [
    "#question 2.1"
   ]
  },
  {
   "cell_type": "code",
   "execution_count": 16,
   "metadata": {},
   "outputs": [
    {
     "name": "stdout",
     "output_type": "stream",
     "text": [
      "enter words with spaceesfhj sjdn i ikj \n",
      "[5, 4, 1, 3, 0]\n"
     ]
    }
   ],
   "source": [
    "def length():\n",
    "    p=input(\"enter words with space\").split(\" \")\n",
    "    q=[len(i) for i in p]\n",
    "    print(q)\n",
    "length()"
   ]
  },
  {
   "cell_type": "code",
   "execution_count": 17,
   "metadata": {},
   "outputs": [],
   "source": [
    "#question 2.2\n"
   ]
  },
  {
   "cell_type": "code",
   "execution_count": 20,
   "metadata": {},
   "outputs": [
    {
     "name": "stdout",
     "output_type": "stream",
     "text": [
      "enter characterk\n"
     ]
    },
    {
     "data": {
      "text/plain": [
       "False"
      ]
     },
     "execution_count": 20,
     "metadata": {},
     "output_type": "execute_result"
    }
   ],
   "source": [
    "def vowel():\n",
    "    v=input('enter character')\n",
    "    if v.lower() in ['a','e','i','o','u']:\n",
    "        return True\n",
    "    else:\n",
    "        return False\n",
    "vowel()"
   ]
  },
  {
   "cell_type": "code",
   "execution_count": null,
   "metadata": {},
   "outputs": [],
   "source": []
  }
 ],
 "metadata": {
  "kernelspec": {
   "display_name": "Python 3",
   "language": "python",
   "name": "python3"
  },
  "language_info": {
   "codemirror_mode": {
    "name": "ipython",
    "version": 3
   },
   "file_extension": ".py",
   "mimetype": "text/x-python",
   "name": "python",
   "nbconvert_exporter": "python",
   "pygments_lexer": "ipython3",
   "version": "3.8.3"
  }
 },
 "nbformat": 4,
 "nbformat_minor": 4
}
